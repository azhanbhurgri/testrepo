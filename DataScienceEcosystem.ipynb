{
 "cells": [
  {
   "cell_type": "markdown",
   "id": "68249572-292f-42ba-a5a0-c267172c8b85",
   "metadata": {},
   "source": [
    "# Data Science Tools and Ecosystem"
   ]
  },
  {
   "cell_type": "markdown",
   "id": "e01bc7d0-04b6-4ea4-b87d-5681efa40ae2",
   "metadata": {},
   "source": [
    "## Author:\n",
    "Muhammad Azhan Bhurgri"
   ]
  },
  {
   "cell_type": "markdown",
   "id": "c1a0421b-266d-48b9-bc8d-290cdb5da20f",
   "metadata": {},
   "source": [
    "|Data Science Tools|\n",
    "|------------------|\n",
    "|Pycharm|\n",
    "|Rstudio|\n",
    "|Jupyter Notebook|"
   ]
  },
  {
   "cell_type": "markdown",
   "id": "69fc6592-3e2d-426a-9809-45703ef9ee7c",
   "metadata": {},
   "source": [
    "### Below are a few examples of evaluating arithmetic expressions in Python"
   ]
  },
  {
   "cell_type": "code",
   "execution_count": 3,
   "id": "e838e435-7b5d-4d94-a30c-0051c4775c41",
   "metadata": {},
   "outputs": [
    {
     "data": {
      "text/plain": [
       "17"
      ]
     },
     "execution_count": 3,
     "metadata": {},
     "output_type": "execute_result"
    }
   ],
   "source": [
    "#This a simple arithmetic expression to mutiply then add integers\n",
    "(3*4)+5"
   ]
  },
  {
   "cell_type": "code",
   "execution_count": 4,
   "id": "c449a065-e495-436f-8cee-7a081625dbf3",
   "metadata": {},
   "outputs": [
    {
     "data": {
      "text/plain": [
       "3.3333333333333335"
      ]
     },
     "execution_count": 4,
     "metadata": {},
     "output_type": "execute_result"
    }
   ],
   "source": [
    "#This will convert 200 minutes to hours by diving by 60\n",
    "200/60"
   ]
  },
  {
   "cell_type": "code",
   "execution_count": null,
   "id": "ba9a4952-95c1-4ae9-8d49-81124e76c889",
   "metadata": {},
   "outputs": [],
   "source": []
  },
  {
   "cell_type": "markdown",
   "id": "29c18319-330f-4403-a095-ed8702a81f4e",
   "metadata": {},
   "source": [
    "In this notebook, Data Science Tools and Ecosystem are summarized."
   ]
  },
  {
   "cell_type": "markdown",
   "id": "382b50f5-e36a-4196-b74c-04274357cf7c",
   "metadata": {},
   "source": [
    "**Objectives:**\n",
    "* List Popular Langauages used in Data Science\n",
    "* List Popular Libraries used for Data Science\n",
    "* List Popular Tools used for Data Science\n",
    "* Perform Arithmetic calculations\n",
    "* Familiarize myself with Jupyter Notebook Interface"
   ]
  },
  {
   "cell_type": "markdown",
   "id": "5b2cd5a4-3797-468b-b253-42aa68c822d8",
   "metadata": {},
   "source": [
    "Some of the popular languages that Data Scientists use are:\n",
    "1. Python\n",
    "2. R\n",
    "3. Java"
   ]
  },
  {
   "cell_type": "markdown",
   "id": "22c48a08-0523-4035-83b5-edf74187db78",
   "metadata": {},
   "source": [
    "Some of the commonly used libraries used by Data Scientists include:\n",
    "1. Scikit-learn\n",
    "2. Caret\n",
    "3. Tensorflow"
   ]
  }
 ],
 "metadata": {
  "kernelspec": {
   "display_name": "Python [conda env:python_practice]",
   "language": "python",
   "name": "conda-env-python_practice-py"
  },
  "language_info": {
   "codemirror_mode": {
    "name": "ipython",
    "version": 3
   },
   "file_extension": ".py",
   "mimetype": "text/x-python",
   "name": "python",
   "nbconvert_exporter": "python",
   "pygments_lexer": "ipython3",
   "version": "3.13.5"
  }
 },
 "nbformat": 4,
 "nbformat_minor": 5
}
